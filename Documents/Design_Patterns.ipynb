{
 "cells": [
  {
   "cell_type": "markdown",
   "metadata": {
    "slideshow": {
     "slide_type": "-"
    }
   },
   "source": [
    "# Design patterns"
   ]
  },
  {
   "cell_type": "markdown",
   "metadata": {},
   "source": [
    "Reference : \n",
    "    \n",
    "    1. Design Patterns: Elements of Reusable Object-Oriented Software\n",
    "    2. https://refactoring.guru/\n",
    "    3. https://sourcemaking.com/\n",
    "    4. https://github.com/faif/python-patterns\n",
    "    5. https://github.com/KodeWorker/Python-Design-Patterns\n",
    "    6. https://github.com/JakubVojvoda/design-patterns-python\n",
    "    7. https://online.visual-paradigm.com/drive/#diagramlist:proj=0&new=ClassDiagram\n",
    "    8. https://www.youtube.com/playlist?list=PLrhzvIcii6GNjpARdnO4ueTUAVR9eMBpc "
   ]
  },
  {
   "cell_type": "markdown",
   "metadata": {},
   "source": [
    "In software engineering, a design pattern is a general repeatable solution to a commonly occurring problem in software design. A design pattern isn't a finished design that can be transformed directly into code. It is a description or template for how to solve a problem that can be used in many different situations."
   ]
  },
  {
   "cell_type": "markdown",
   "metadata": {},
   "source": [
    "## Gamma Categorization"
   ]
  },
  {
   "cell_type": "markdown",
   "metadata": {},
   "source": [
    "1. Design Patterns are Typically split into three categories.\n",
    "2. This is called Gamma Categorization after Erich Gamma, One of the GoF authors."
   ]
  },
  {
   "cell_type": "markdown",
   "metadata": {},
   "source": [
    "## Creational design patterns"
   ]
  },
  {
   "cell_type": "markdown",
   "metadata": {},
   "source": [
    "These design patterns are all about class instantiation. This pattern can be further divided into class-creation patterns and object-creational patterns. While class-creation patterns use inheritance effectively in the instantiation process, object-creation patterns use delegation effectively to get the job done.\n",
    "\n",
    "1. Deal with the creation (contruction) of the objects.\n",
    "2. Explicit (constructor) vs implicit(DI,reflection,etc)\n",
    "3. Wholesale(single statement) vspiecewise(step-by-step)"
   ]
  },
  {
   "cell_type": "markdown",
   "metadata": {
    "heading_collapsed": true
   },
   "source": [
    "### Builder "
   ]
  },
  {
   "cell_type": "markdown",
   "metadata": {
    "hidden": true
   },
   "source": [
    "Builder is a creational design pattern that lets you construct complex objects step by step. The pattern allows you to produce different types and representations of an object using the same construction code.\n",
    "\n",
    "1. Some objects are simple and can be created in a single initializer call.\n",
    "2. Other objects require a lot of ceremony to create.\n",
    "3. Having an object with 10 initializer argument is not productive.\n",
    "4. Instead, opt for a piecewise construction.\n",
    "5. Builder provides an API for contructing an object step-by-step."
   ]
  },
  {
   "cell_type": "code",
   "execution_count": 3,
   "metadata": {
    "ExecuteTime": {
     "end_time": "2020-03-13T06:49:55.564191Z",
     "start_time": "2020-03-13T06:49:55.555199Z"
    },
    "hidden": true
   },
   "outputs": [
    {
     "name": "stdout",
     "output_type": "stream",
     "text": [
      "<p>hello</p>\n",
      "<ul>\n",
      " <li>hello</li>\n",
      " <li>world</li>\n",
      "</ul>\n",
      "['<ul>', ' <li>hello</li>', ' <li>world</li>', '</ul>']\n"
     ]
    }
   ],
   "source": [
    "text = 'hello'\n",
    "parts = ['<p>',text,'</p>']\n",
    "print(''.join(parts))\n",
    "\n",
    "words = ['hello','world']\n",
    "parts = ['<ul>']\n",
    "for w in words:\n",
    "    parts.append(f' <li>{w}</li>')\n",
    "parts.append('</ul>')\n",
    "print('\\n'.join(parts))\n",
    "print(parts)"
   ]
  },
  {
   "cell_type": "code",
   "execution_count": 4,
   "metadata": {
    "ExecuteTime": {
     "end_time": "2020-03-13T06:52:39.421084Z",
     "start_time": "2020-03-13T06:52:39.390100Z"
    },
    "hidden": true
   },
   "outputs": [],
   "source": [
    "class HtmlElement:\n",
    "    indent_size = 2\n",
    "\n",
    "    def __init__(self, name=\"\", text=\"\"):\n",
    "        self.name = name\n",
    "        self.text = text\n",
    "        self.elements = []\n",
    "\n",
    "    def __str(self, indent):\n",
    "        lines = []\n",
    "        i = ' ' * (indent * self.indent_size)\n",
    "        lines.append(f'{i}<{self.name}>')\n",
    "\n",
    "        if self.text:\n",
    "            i1 = ' ' * ((indent + 1) * self.indent_size)\n",
    "            lines.append(f'{i1}{self.text}')\n",
    "\n",
    "        for e in self.elements:\n",
    "            lines.append(e.__str(indent + 1))\n",
    "\n",
    "        lines.append(f'{i}</{self.name}>')\n",
    "        return '\\n'.join(lines)\n",
    "\n",
    "    def __str__(self):\n",
    "        return self.__str(0)\n",
    "\n",
    "    @staticmethod\n",
    "    def create(name):\n",
    "        return HtmlBuilder(name)\n",
    "\n",
    "\n",
    "class HtmlBuilder:\n",
    "    __root = HtmlElement()\n",
    "\n",
    "    def __init__(self, root_name):\n",
    "        self.root_name = root_name\n",
    "        self.__root.name = root_name\n",
    "\n",
    "    # not fluent\n",
    "    def add_child(self, child_name, child_text):\n",
    "        self.__root.elements.append(\n",
    "            HtmlElement(child_name, child_text)\n",
    "        )\n",
    "\n",
    "    # fluent\n",
    "    def add_child_fluent(self, child_name, child_text):\n",
    "        self.__root.elements.append(\n",
    "            HtmlElement(child_name, child_text)\n",
    "        )\n",
    "        return self\n",
    "\n",
    "    def clear(self):\n",
    "        self.__root = HtmlElement(name=self.root_name)\n",
    "\n",
    "    def __str__(self):\n",
    "        return str(self.__root)"
   ]
  },
  {
   "cell_type": "code",
   "execution_count": 7,
   "metadata": {
    "ExecuteTime": {
     "end_time": "2020-03-13T06:54:28.120833Z",
     "start_time": "2020-03-13T06:54:28.114835Z"
    },
    "hidden": true
   },
   "outputs": [
    {
     "name": "stdout",
     "output_type": "stream",
     "text": [
      "Ordinary builder:\n",
      "<ul>\n",
      "  <li>\n",
      "    hello\n",
      "  </li>\n",
      "  <li>\n",
      "    world\n",
      "  </li>\n",
      "  <li>\n",
      "    hello\n",
      "  </li>\n",
      "  <li>\n",
      "    world\n",
      "  </li>\n",
      "</ul>\n"
     ]
    }
   ],
   "source": [
    "# ordinary non-fluent builder\n",
    "# builder = HtmlBuilder('ul')\n",
    "builder = HtmlElement.create('ul')\n",
    "builder.add_child('li', 'hello')\n",
    "builder.add_child('li', 'world')\n",
    "print('Ordinary builder:')\n",
    "print(builder)"
   ]
  },
  {
   "cell_type": "code",
   "execution_count": 7,
   "metadata": {
    "ExecuteTime": {
     "end_time": "2020-03-26T06:40:38.291515Z",
     "start_time": "2020-03-26T06:40:36.797337Z"
    },
    "hidden": true
   },
   "outputs": [
    {
     "ename": "NameError",
     "evalue": "name 'builder' is not defined",
     "output_type": "error",
     "traceback": [
      "\u001b[1;31m---------------------------------------------------------------------------\u001b[0m",
      "\u001b[1;31mNameError\u001b[0m                                 Traceback (most recent call last)",
      "\u001b[1;32m<ipython-input-7-15286fbdbed9>\u001b[0m in \u001b[0;36m<module>\u001b[1;34m\u001b[0m\n\u001b[0;32m      1\u001b[0m \u001b[1;31m# fluent builder\u001b[0m\u001b[1;33m\u001b[0m\u001b[1;33m\u001b[0m\u001b[1;33m\u001b[0m\u001b[0m\n\u001b[1;32m----> 2\u001b[1;33m \u001b[0mbuilder\u001b[0m\u001b[1;33m.\u001b[0m\u001b[0mclear\u001b[0m\u001b[1;33m(\u001b[0m\u001b[1;33m)\u001b[0m\u001b[1;33m\u001b[0m\u001b[1;33m\u001b[0m\u001b[0m\n\u001b[0m\u001b[0;32m      3\u001b[0m \u001b[0mbuilder\u001b[0m\u001b[1;33m.\u001b[0m\u001b[0madd_child_fluent\u001b[0m\u001b[1;33m(\u001b[0m\u001b[1;34m'li'\u001b[0m\u001b[1;33m,\u001b[0m \u001b[1;34m'hello'\u001b[0m\u001b[1;33m)\u001b[0m\u001b[0;31m \u001b[0m\u001b[0;31m\\\u001b[0m\u001b[1;33m\u001b[0m\u001b[1;33m\u001b[0m\u001b[0m\n\u001b[0;32m      4\u001b[0m     \u001b[1;33m.\u001b[0m\u001b[0madd_child_fluent\u001b[0m\u001b[1;33m(\u001b[0m\u001b[1;34m'li'\u001b[0m\u001b[1;33m,\u001b[0m \u001b[1;34m'world'\u001b[0m\u001b[1;33m)\u001b[0m\u001b[1;33m\u001b[0m\u001b[1;33m\u001b[0m\u001b[0m\n\u001b[0;32m      5\u001b[0m \u001b[0mprint\u001b[0m\u001b[1;33m(\u001b[0m\u001b[1;34m'Fluent builder:'\u001b[0m\u001b[1;33m)\u001b[0m\u001b[1;33m\u001b[0m\u001b[1;33m\u001b[0m\u001b[0m\n",
      "\u001b[1;31mNameError\u001b[0m: name 'builder' is not defined"
     ]
    }
   ],
   "source": [
    "# fluent builder\n",
    "builder.clear()\n",
    "builder.add_child_fluent('li', 'hello') \\\n",
    "    .add_child_fluent('li', 'world')\n",
    "print('Fluent builder:')\n",
    "print(builder)"
   ]
  },
  {
   "cell_type": "markdown",
   "metadata": {
    "heading_collapsed": true,
    "hidden": true
   },
   "source": [
    "#### Builder Facets  : Interface for jumping from one class to another"
   ]
  },
  {
   "cell_type": "code",
   "execution_count": 9,
   "metadata": {
    "ExecuteTime": {
     "end_time": "2020-03-13T08:10:12.268322Z",
     "start_time": "2020-03-13T08:10:12.239338Z"
    },
    "hidden": true
   },
   "outputs": [
    {
     "name": "stdout",
     "output_type": "stream",
     "text": [
      "Creating an instance of Person\n",
      "Address: 123 London Road, SW12BC, London\n",
      "Employed at Fabrikam as a SW12BC earning 123000\n",
      "Creating an instance of Person\n",
      "Address: None, None, None\n",
      "Employed at None as a None earning None\n"
     ]
    }
   ],
   "source": [
    "class Person:\n",
    "    def __init__(self):\n",
    "        print('Creating an instance of Person')\n",
    "        # address\n",
    "        self.street_address = None\n",
    "        self.postcode = None\n",
    "        self.city = None\n",
    "        # employment info\n",
    "        self.company_name = None\n",
    "        self.position = None\n",
    "        self.annual_income = None\n",
    "\n",
    "    def __str__(self) -> str:\n",
    "        return f'Address: {self.street_address}, {self.postcode}, {self.city}\\n' +\\\n",
    "            f'Employed at {self.company_name} as a {self.postcode} earning {self.annual_income}'\n",
    "\n",
    "\n",
    "class PersonBuilder:  # facade , this is voilating the OCP , a new subbuilder if added we haveto add another property in here. So we do it with Inheritance.\n",
    "    def __init__(self, person=None):\n",
    "        if person is None:\n",
    "            self.person = Person()\n",
    "        else:\n",
    "            self.person = person\n",
    "\n",
    "    @property\n",
    "    def lives(self):\n",
    "        return PersonAddressBuilder(self.person)\n",
    "\n",
    "    @property\n",
    "    def works(self):\n",
    "        return PersonJobBuilder(self.person)\n",
    "\n",
    "    def build(self):\n",
    "        return self.person\n",
    "\n",
    "\n",
    "class PersonJobBuilder(PersonBuilder):\n",
    "    def __init__(self, person):\n",
    "        super().__init__(person)\n",
    "\n",
    "    def at(self, company_name):\n",
    "        self.person.company_name = company_name\n",
    "        return self\n",
    "\n",
    "    def as_a(self, position):\n",
    "        self.person.position = position\n",
    "        return self\n",
    "\n",
    "    def earning(self, annual_income):\n",
    "        self.person.annual_income = annual_income\n",
    "        return self\n",
    "\n",
    "\n",
    "class PersonAddressBuilder(PersonBuilder):\n",
    "    def __init__(self, person):\n",
    "        super().__init__(person)\n",
    "\n",
    "    def at(self, street_address):\n",
    "        self.person.street_address = street_address\n",
    "        return self\n",
    "\n",
    "    def with_postcode(self, postcode):\n",
    "        self.person.postcode = postcode\n",
    "        return self\n",
    "\n",
    "    def in_city(self, city):\n",
    "        self.person.city = city\n",
    "        return self\n",
    "\n",
    "\n",
    "if __name__ == '__main__':\n",
    "    pb = PersonBuilder()\n",
    "    p = pb\\\n",
    "        .lives\\\n",
    "            .at('123 London Road')\\\n",
    "            .in_city('London')\\\n",
    "            .with_postcode('SW12BC')\\\n",
    "        .works\\\n",
    "            .at('Fabrikam')\\\n",
    "            .as_a('Engineer')\\\n",
    "            .earning(123000)\\\n",
    "        .build()\n",
    "    print(p)\n",
    "    person2 = PersonBuilder().build()\n",
    "    print(person2)"
   ]
  },
  {
   "cell_type": "markdown",
   "metadata": {
    "heading_collapsed": true,
    "hidden": true
   },
   "source": [
    "#### Builder Inheritance "
   ]
  },
  {
   "cell_type": "code",
   "execution_count": 12,
   "metadata": {
    "ExecuteTime": {
     "end_time": "2020-03-13T08:26:34.077509Z",
     "start_time": "2020-03-13T08:26:34.055526Z"
    },
    "hidden": true
   },
   "outputs": [
    {
     "name": "stdout",
     "output_type": "stream",
     "text": [
      "Tushar born on 1/1/1965 works as a Director\n"
     ]
    }
   ],
   "source": [
    "class Person:\n",
    "    def __init__(self):\n",
    "        self.name = None\n",
    "        self.position = None\n",
    "        self.date_of_birth = None\n",
    "\n",
    "    def __str__(self):\n",
    "        return f'{self.name} born on {self.date_of_birth} works as a {self.position}'\n",
    "\n",
    "    @staticmethod\n",
    "    def new():\n",
    "        return PersonBuilder()\n",
    "\n",
    "class PersonBuilder:\n",
    "    def __init__(self):\n",
    "        self.person = Person()\n",
    "\n",
    "    def build(self):\n",
    "        return self.person\n",
    "\n",
    "\n",
    "class PersonInfoBuilder(PersonBuilder):\n",
    "    def called(self, name):\n",
    "        self.person.name = name\n",
    "        return self\n",
    "\n",
    "\n",
    "class PersonJobBuilder(PersonInfoBuilder):\n",
    "    def works_as_a(self, position):\n",
    "        self.person.position = position\n",
    "        return self\n",
    "\n",
    "\n",
    "class PersonBirthDateBuilder(PersonJobBuilder):\n",
    "    def born(self, date_of_birth):\n",
    "        self.person.date_of_birth = date_of_birth\n",
    "        return self\n",
    "\n",
    "\n",
    "if __name__ == '__main__':\n",
    "    pb = PersonBirthDateBuilder()\n",
    "    me = pb\\\n",
    "        .called('Tushar')\\\n",
    "        .works_as_a('Director')\\\n",
    "        .born('1/1/1965')\\\n",
    "        .build()  # this does NOT work in C#/C++/Java/...\n",
    "    print(me)"
   ]
  },
  {
   "cell_type": "markdown",
   "metadata": {
    "heading_collapsed": true,
    "hidden": true
   },
   "source": [
    "#### Summary Builder : "
   ]
  },
  {
   "cell_type": "markdown",
   "metadata": {
    "hidden": true
   },
   "source": [
    "1. A builder is a seperate component for building an object.\n",
    "2. Can either give builder an initializer or return it via a static function.\n",
    "3. To make builder fluent return self.\n",
    "4. Different facets of an object can be build with different builders working in tandem via a base class."
   ]
  },
  {
   "cell_type": "markdown",
   "metadata": {
    "heading_collapsed": true
   },
   "source": [
    "### Factory "
   ]
  },
  {
   "cell_type": "markdown",
   "metadata": {
    "hidden": true
   },
   "source": [
    "Factory Method is a creational design pattern that provides an interface for creating objects in a superclass, but allows subclasses to alter the type of objects that will be created.\n",
    "\n",
    "1. Object Creation logic become too convoluted.\n",
    "2. Initializer is not descriptive.\n",
    "    a.Name is always __init__\n",
    "    b. Cannot overload same set of argument with different names.\n",
    "    c. Can turn into optional parameter hell.\n",
    "3. Wholesale object creation (non-peicewise, unlike builder ) can be outsourced to \n",
    "    a.A separate method (Factory Method)\n",
    "    b.That may exist in a separate class (Factory)\n",
    "    c. Can create hierarchy of a factories with Abstract Factory.\n",
    "\n",
    "The Factory Method pattern suggests that you replace direct object construction calls (using the new operator) with calls to a special factory method. Don’t worry: the objects are still created via the new operator, but it’s being called from within the factory method. Objects returned by a factory method are often referred to as “products.”\n",
    "\n"
   ]
  },
  {
   "cell_type": "code",
   "execution_count": 2,
   "metadata": {
    "ExecuteTime": {
     "end_time": "2020-03-21T19:39:59.830545Z",
     "start_time": "2020-03-21T19:39:59.805563Z"
    },
    "hidden": true
   },
   "outputs": [
    {
     "name": "stdout",
     "output_type": "stream",
     "text": [
      "x: 2, y: 3 x: 1, y: 2 x: 5, y: 6 x: 7, y: 8\n"
     ]
    }
   ],
   "source": [
    "from enum import Enum\n",
    "from math import *\n",
    "\n",
    "\n",
    "class CoordinateSystem(Enum):\n",
    "    CARTESIAN = 1\n",
    "    POLAR = 2\n",
    "\n",
    "\n",
    "class Point:\n",
    "    # def __init__(self, x, y):\n",
    "    #     self.x = x\n",
    "    #     self.y = y\n",
    "\n",
    "    def __str__(self):\n",
    "        return f'x: {self.x}, y: {self.y}'\n",
    "\n",
    "    # redeclaration won't work\n",
    "    # def __init__(self, rho, theta):\n",
    "\n",
    "    def __init__(self, a, b, system=CoordinateSystem.CARTESIAN):\n",
    "        if system == CoordinateSystem.CARTESIAN:\n",
    "            self.x = a\n",
    "            self.y = b\n",
    "        elif system == CoordinateSystem.POLAR:\n",
    "            self.x = a * sin(b)\n",
    "            self.y = a * cos(b)\n",
    "\n",
    "        # steps to add a new system\n",
    "        # 1. augment CoordinateSystem\n",
    "        # 2. change init method\n",
    "\n",
    "    @staticmethod\n",
    "    def new_cartesian_point(x, y):\n",
    "        return Point(x, y)\n",
    "\n",
    "    @staticmethod\n",
    "    def new_polar_point(rho, theta):\n",
    "        return Point(rho * sin(theta), rho * cos(theta))\n",
    "\n",
    "    class Factory:\n",
    "        @staticmethod\n",
    "        def new_cartesian_point(x, y):\n",
    "            return Point(x, y)\n",
    "\n",
    "    factory = Factory()\n",
    "\n",
    "# take out factory methods to a separate class\n",
    "class PointFactory:\n",
    "    @staticmethod\n",
    "    def new_cartesian_point(x, y):\n",
    "        return Point(x, y)\n",
    "\n",
    "    @staticmethod\n",
    "    def new_polar_point(rho, theta):\n",
    "        return Point(rho * sin(theta), rho * cos(theta))\n",
    "\n",
    "\n",
    "if __name__ == '__main__':\n",
    "    p1 = Point(2, 3, CoordinateSystem.CARTESIAN)\n",
    "    p2 = PointFactory.new_cartesian_point(1, 2)\n",
    "    # or you can expose factory through the type\n",
    "    p3 = Point.Factory.new_cartesian_point(5, 6)\n",
    "    p4 = Point.factory.new_cartesian_point(7, 8)\n",
    "    print(p1, p2, p3, p4)"
   ]
  },
  {
   "cell_type": "markdown",
   "metadata": {
    "heading_collapsed": true
   },
   "source": [
    "### Abstract Factory "
   ]
  },
  {
   "cell_type": "markdown",
   "metadata": {
    "hidden": true
   },
   "source": [
    "Abstract Factory is a creational design pattern, which solves the problem of creating entire product families without specifying their concrete classes.\n",
    "\n",
    "The first thing the Abstract Factory pattern suggests is to explicitly declare interfaces for each distinct product of the product family (e.g., chair, sofa or coffee table). Then you can make all variants of products follow those interfaces. For example, all chair variants can implement the Chair interface; all coffee table variants can implement the CoffeeTable interface, and so on."
   ]
  },
  {
   "cell_type": "code",
   "execution_count": 5,
   "metadata": {
    "ExecuteTime": {
     "end_time": "2020-03-21T19:59:12.643232Z",
     "start_time": "2020-03-21T19:59:06.976312Z"
    },
    "hidden": true
   },
   "outputs": [
    {
     "name": "stdout",
     "output_type": "stream",
     "text": [
      "Available drinks:\n",
      "Coffee\n",
      "Tea\n",
      "Please pick drink (0-1): 1\n",
      "Specify amount: 100\n",
      "Put in tea bag, boil water, pour 100ml, enjoy!\n",
      "This tea is nice but I'd prefer it with milk\n"
     ]
    }
   ],
   "source": [
    "from abc import ABC\n",
    "from enum import Enum, auto\n",
    "\n",
    "\n",
    "class HotDrink(ABC):\n",
    "    def consume(self):\n",
    "        pass\n",
    "\n",
    "\n",
    "class Tea(HotDrink):\n",
    "    def consume(self):\n",
    "        print('This tea is nice but I\\'d prefer it with milk')\n",
    "\n",
    "\n",
    "class Coffee(HotDrink):\n",
    "    def consume(self):\n",
    "        print('This coffee is delicious')\n",
    "\n",
    "\n",
    "class HotDrinkFactory(ABC):\n",
    "    def prepare(self, amount):\n",
    "        pass\n",
    "\n",
    "\n",
    "class TeaFactory(HotDrinkFactory):\n",
    "    def prepare(self, amount):\n",
    "        print(f'Put in tea bag, boil water, pour {amount}ml, enjoy!')\n",
    "        return Tea()\n",
    "\n",
    "\n",
    "class CoffeeFactory(HotDrinkFactory):\n",
    "    def prepare(self, amount):\n",
    "        print(f'Grind some beans, boil water, pour {amount}ml, enjoy!')\n",
    "        return Coffee()\n",
    "\n",
    "\n",
    "class HotDrinkMachine:\n",
    "    class AvailableDrink(Enum):  # violates OCP\n",
    "        COFFEE = auto()\n",
    "        TEA = auto()\n",
    "\n",
    "    factories = []\n",
    "    initialized = False\n",
    "\n",
    "    def __init__(self):\n",
    "        if not self.initialized:\n",
    "            self.initialized = True\n",
    "            for d in self.AvailableDrink:\n",
    "                name = d.name[0] + d.name[1:].lower()\n",
    "                factory_name = name + 'Factory'\n",
    "                factory_instance = eval(factory_name)()\n",
    "                self.factories.append((name, factory_instance))\n",
    "\n",
    "\n",
    "\n",
    "\n",
    "\n",
    "    def make_drink(self):\n",
    "        print('Available drinks:')\n",
    "        for f in self.factories:\n",
    "            print(f[0])\n",
    "\n",
    "        s = input(f'Please pick drink (0-{len(self.factories)-1}): ')\n",
    "        idx = int(s)\n",
    "        s = input(f'Specify amount: ')\n",
    "        amount = int(s)\n",
    "        return self.factories[idx][1].prepare(amount)\n",
    "\n",
    "\n",
    "\n",
    "def make_drink(type):\n",
    "    if type == 'tea':\n",
    "        return TeaFactory().prepare(200)\n",
    "    elif type == 'coffee':\n",
    "        return CoffeeFactory().prepare(50)\n",
    "    else:\n",
    "        return None\n",
    "\n",
    "\n",
    "if __name__ == '__main__':\n",
    "    # entry = input('What kind of drink would you like?')\n",
    "    # drink = make_drink(entry)\n",
    "    # drink.consume()\n",
    "\n",
    "    hdm = HotDrinkMachine()\n",
    "    drink = hdm.make_drink()\n",
    "    drink.consume()"
   ]
  },
  {
   "cell_type": "markdown",
   "metadata": {
    "ExecuteTime": {
     "end_time": "2020-03-26T06:33:09.560814Z",
     "start_time": "2020-03-26T06:33:09.458852Z"
    }
   },
   "source": [
    "### Prototype"
   ]
  },
  {
   "cell_type": "markdown",
   "metadata": {},
   "source": [
    "Prototype is a creational design pattern that lets you copy existing objects without making your code dependent on their classes.\n",
    "\n",
    "The Prototype pattern delegates the cloning process to the actual objects that are being cloned. The pattern declares a common interface for all objects that support cloning. This interface lets you clone an object without coupling your code to the class of that object. Usually, such an interface contains just a single clone method.\n",
    "\n",
    "An object that supports cloning is called a prototype. When your objects have dozens of fields and hundreds of possible configurations, cloning them might serve as an alternative to subclassing.\n",
    "\n",
    "Here’s how it works: you create a set of objects, configured in various ways. When you need an object like the one you’ve configured, you just clone a prototype instead of constructing a new object from scratch.\n",
    "\n",
    "- An existing (partially or fully constructed ) design is a Prototype.\n",
    "- We make a copy (clone) the prototype and customize it , requires deep copy support.\n",
    "- We make cloning convinent via a Factory."
   ]
  },
  {
   "cell_type": "code",
   "execution_count": 9,
   "metadata": {
    "ExecuteTime": {
     "end_time": "2020-03-26T07:21:38.501614Z",
     "start_time": "2020-03-26T07:21:38.480629Z"
    }
   },
   "outputs": [
    {
     "name": "stdout",
     "output_type": "stream",
     "text": [
      "John lives at 123 London Road, London, UK\n",
      "John lives at 123 London Road, London, UK \n",
      " Jane lives at 124 London Road, London, UK\n"
     ]
    }
   ],
   "source": [
    "import copy\n",
    "\n",
    "\n",
    "class Address:\n",
    "    def __init__(self, street_address, city, country):\n",
    "        self.country = country\n",
    "        self.city = city\n",
    "        self.street_address = street_address\n",
    "\n",
    "    def __str__(self):\n",
    "        return f'{self.street_address}, {self.city}, {self.country}'\n",
    "\n",
    "\n",
    "class Person:\n",
    "    def __init__(self, name, address):\n",
    "        self.name = name\n",
    "        self.address = address\n",
    "\n",
    "    def __str__(self):\n",
    "        return f'{self.name} lives at {self.address}'\n",
    "\n",
    "\n",
    "john = Person(\"John\", Address(\"123 London Road\", \"London\", \"UK\"))\n",
    "print(john)\n",
    "# jane = john ## this is not the right way to copy\n",
    "jane = copy.deepcopy(john)\n",
    "jane.name = \"Jane\"\n",
    "jane.address.street_address = \"124 London Road\"\n",
    "print(john,'\\n',jane)"
   ]
  },
  {
   "cell_type": "code",
   "execution_count": 10,
   "metadata": {
    "ExecuteTime": {
     "end_time": "2020-03-26T08:03:14.266940Z",
     "start_time": "2020-03-26T08:03:14.123022Z"
    }
   },
   "outputs": [
    {
     "name": "stdout",
     "output_type": "stream",
     "text": [
      "Jane works at 123B East Dr, Suite #200, London\n"
     ]
    }
   ],
   "source": [
    "import copy\n",
    "\n",
    "\n",
    "class Address:\n",
    "    def __init__(self, street_address, suite, city):\n",
    "        self.suite = suite\n",
    "        self.city = city\n",
    "        self.street_address = street_address\n",
    "\n",
    "    def __str__(self):\n",
    "        return f'{self.street_address}, Suite #{self.suite}, {self.city}'\n",
    "\n",
    "class Employee:\n",
    "    def __init__(self, name, address):\n",
    "        self.address = address\n",
    "        self.name = name\n",
    "\n",
    "    def __str__(self):\n",
    "        return f'{self.name} works at {self.address}'\n",
    "\n",
    "\n",
    "class EmployeeFactory:\n",
    "    main_office_employee = Employee(\"\", Address(\"123 East Dr\", 0, \"London\"))\n",
    "    aux_office_employee = Employee(\"\", Address(\"123B East Dr\", 0, \"London\"))\n",
    "\n",
    "    @staticmethod\n",
    "    def __new_employee(proto, name, suite):\n",
    "        result = copy.deepcopy(proto)\n",
    "        result.name = name\n",
    "        result.address.suite = suite\n",
    "        return result\n",
    "\n",
    "    @staticmethod\n",
    "    def new_main_office_employee(name, suite):\n",
    "        return EmployeeFactory.__new_employee(\n",
    "            EmployeeFactory.main_office_employee,\n",
    "            name, suite\n",
    "        )\n",
    "\n",
    "    @staticmethod\n",
    "    def new_aux_office_employee(name, suite):\n",
    "        return EmployeeFactory.__new_employee(\n",
    "            EmployeeFactory.aux_office_employee,\n",
    "            name, suite\n",
    "        )\n",
    "\n",
    "# main_office_employee = Employee(\"\", Address(\"123 East Dr\", 0, \"London\"))\n",
    "# aux_office_employee = Employee(\"\", Address(\"123B East Dr\", 0, \"London\"))\n",
    "\n",
    "# john = copy.deepcopy(main_office_employee)\n",
    "#john.name = \"John\"\n",
    "#john.address.suite = 101\n",
    "#print(john)\n",
    "\n",
    "# would prefer to write just one line of code\n",
    "jane = EmployeeFactory.new_aux_office_employee(\"Jane\", 200)\n",
    "print(jane)\n"
   ]
  },
  {
   "cell_type": "markdown",
   "metadata": {},
   "source": [
    "### Singleton"
   ]
  },
  {
   "cell_type": "code",
   "execution_count": null,
   "metadata": {},
   "outputs": [],
   "source": []
  },
  {
   "cell_type": "markdown",
   "metadata": {},
   "source": [
    "## Structural design patterns"
   ]
  },
  {
   "cell_type": "markdown",
   "metadata": {},
   "source": [
    "These design patterns are all about Class and Object composition. Structural class-creation patterns use inheritance to compose interfaces. Structural object-patterns define ways to compose objects to obtain new functionality.\n",
    "\n",
    "1. Concerned with the strcture(eg, class members)\n",
    "2. Many Patterns are wrappers that mimic the undedrlying class interface.\n",
    "3. Stress the importance of goof API design."
   ]
  },
  {
   "cell_type": "markdown",
   "metadata": {
    "heading_collapsed": true
   },
   "source": [
    "### Adapter : Match interfaces of different classes"
   ]
  },
  {
   "cell_type": "markdown",
   "metadata": {
    "hidden": true
   },
   "source": [
    "Adapter is a structural design pattern that allows objects with incompatible interfaces to collaborate.\n",
    "In general, an adapter makes one interface (the adaptee’s) conform to another, thereby providing a uniform abstraction of different interfaces. A class adapter accomplishes this by inheriting privately from an adaptee class. The adapter then expresses its interface in terms of the adaptee’s.\n",
    "\n",
    "Rather than composing interfaces or implementations, structural object patterns describe ways to compose objects to realize new functionality. The added flexibility of object composition comes from the ability to change the composition at run-time, which is impossible with static class composition.\n",
    "\n",
    "[Ratchet / interface#1 ] ---> [Adapter / interface#1, interface#2] ---> [Socket / interface#2]\n",
    "\n",
    "Make old component usable in a new system\n",
    "Make an 'off-the-shelf' solution usable in a system that is not fully compatible."
   ]
  },
  {
   "cell_type": "markdown",
   "metadata": {
    "heading_collapsed": true,
    "hidden": true
   },
   "source": [
    "#### Problem : "
   ]
  },
  {
   "cell_type": "markdown",
   "metadata": {
    "hidden": true
   },
   "source": [
    "Lets say you have a data source, the datasource can be a Database , XML , Json , CSV , Kafka or log files .\n",
    "So you create a code to work with all the data sources , using this Pattern.\n"
   ]
  },
  {
   "cell_type": "markdown",
   "metadata": {
    "hidden": true
   },
   "source": [
    "#### Solution"
   ]
  },
  {
   "cell_type": "markdown",
   "metadata": {
    "ExecuteTime": {
     "end_time": "2020-03-08T09:25:13.751848Z",
     "start_time": "2020-03-08T09:25:13.731860Z"
    },
    "hidden": true
   },
   "source": [
    "You can create an adapter. This is a special object that converts the interface of one object so that another object can understand it.\n",
    "\n",
    "Classes : \n",
    "   1. Target : The Target defines the domain-specific interface used by the client code.\n",
    "   2. Adaptee : The Adaptee contains some useful behavior, but its interface is incompatible with the existing client code. The Adaptee needs some adaptation before the  client code can use it.\n",
    "   3. Adapter : The Adapter makes the Adaptee's interface compatible with the Target's interface.\n",
    "   4. Client_code : The client code supports all classes that follow the Target interface."
   ]
  },
  {
   "cell_type": "markdown",
   "metadata": {
    "hidden": true
   },
   "source": [
    "#### Usage examples"
   ]
  },
  {
   "cell_type": "markdown",
   "metadata": {
    "ExecuteTime": {
     "end_time": "2020-03-08T14:29:57.732043Z",
     "start_time": "2020-03-08T14:29:57.721047Z"
    },
    "hidden": true
   },
   "source": [
    "The Adapter pattern is pretty common in Python code. It’s very often used in systems based on some legacy code. In such cases, Adapters make legacy code with modern classes."
   ]
  },
  {
   "cell_type": "markdown",
   "metadata": {
    "heading_collapsed": true,
    "hidden": true
   },
   "source": [
    "#### Code :"
   ]
  },
  {
   "cell_type": "code",
   "execution_count": 1,
   "metadata": {
    "ExecuteTime": {
     "end_time": "2020-03-08T09:23:42.748440Z",
     "start_time": "2020-03-08T09:23:42.701468Z"
    },
    "hidden": true
   },
   "outputs": [
    {
     "name": "stdout",
     "output_type": "stream",
     "text": [
      "Client: I can work just fine with the Target objects:\n",
      "Target: The default target's behavior.\n",
      "\n",
      "Client: The Adaptee class has a weird interface. See, I don't understand it:\n",
      "Adaptee: .eetpadA eht fo roivaheb laicepS\n",
      "\n",
      "Client: But I can work with it via the Adapter:\n",
      "Adapter: (TRANSLATED) Special behavior of the Adaptee."
     ]
    }
   ],
   "source": [
    "class Target():\n",
    "    \"\"\"\n",
    "    The Target defines the domain-specific interface used by the client code.\n",
    "    \"\"\"\n",
    "\n",
    "    def request(self) -> str:\n",
    "        return \"Target: The default target's behavior.\"\n",
    "\n",
    "class Adaptee:\n",
    "    \"\"\"\n",
    "    The Adaptee contains some useful behavior, but its interface is incompatible\n",
    "    with the existing client code. The Adaptee needs some adaptation before the\n",
    "    client code can use it.\n",
    "    \"\"\"\n",
    "\n",
    "    def specific_request(self) -> str:\n",
    "        return \".eetpadA eht fo roivaheb laicepS\"\n",
    "\n",
    "\n",
    "class Adapter(Target):\n",
    "    \"\"\"\n",
    "    The Adapter makes the Adaptee's interface compatible with the Target's\n",
    "    interface.\n",
    "    \"\"\"\n",
    "\n",
    "    def __init__(self, adaptee: Adaptee) -> None:\n",
    "        self.adaptee = adaptee\n",
    "\n",
    "    def request(self) -> str:\n",
    "        return f\"Adapter: (TRANSLATED) {self.adaptee.specific_request()[::-1]}\"\n",
    "\n",
    "def client_code(target: Target) -> None:\n",
    "    \"\"\"\n",
    "    The client code supports all classes that follow the Target interface.\n",
    "    \"\"\"\n",
    "\n",
    "    print(target.request(), end=\"\")\n",
    "\n",
    "if __name__ == \"__main__\":\n",
    "    print(\"Client: I can work just fine with the Target objects:\")\n",
    "    target = Target()\n",
    "    client_code(target)\n",
    "    print(\"\\n\")\n",
    "\n",
    "    adaptee = Adaptee()\n",
    "    print(\"Client: The Adaptee class has a weird interface. See, I don't understand it:\")\n",
    "    print(f\"Adaptee: {adaptee.specific_request()}\", end=\"\\n\\n\")\n",
    "\n",
    "    print(\"Client: But I can work with it via the Adapter:\")\n",
    "    adapter = Adapter(adaptee)\n",
    "    client_code(adapter)"
   ]
  },
  {
   "cell_type": "markdown",
   "metadata": {
    "heading_collapsed": true
   },
   "source": [
    "### Bridge : Separates an object’s interface from its implementation"
   ]
  },
  {
   "cell_type": "markdown",
   "metadata": {
    "hidden": true
   },
   "source": [
    "Connecting components through abstraction\n",
    "\n",
    "Decouple an abstraction from its implementation so that the two can vary independently.\n",
    "\n",
    "Bridge is a structural design pattern that lets you split a large class or a set of closely related classes into two separate hierarchies—abstraction and implementation—which can be developed independently of each other.\n",
    "\n",
    "Decouple an abstraction from its implementation so that the two can vary independently.\n",
    "Publish interface in an inheritance hierarchy, and bury implementation in its own inheritance hierarchy.\n",
    "Beyond encapsulation, to insulation"
   ]
  },
  {
   "cell_type": "markdown",
   "metadata": {
    "hidden": true
   },
   "source": [
    "#### Problem"
   ]
  },
  {
   "cell_type": "markdown",
   "metadata": {
    "hidden": true
   },
   "source": [
    "Abstraction? Implementation? Sound scary? Stay calm and let’s consider a simple example.\n",
    "\n",
    "Say you have a geometric Shape class with a pair of subclasses: Circle and Square. You want to extend this class hierarchy to incorporate colors, so you plan to create Red and Blue shape subclasses. However, since you already have two subclasses, you’ll need to create four class combinations such as BlueCircle and RedSquare.\n",
    "    \n",
    "Adding new shape types and colors to the hierarchy will grow it exponentially. For example, to add a triangle shape you’d need to introduce two subclasses, one for each color. And after that, adding a new color would require creating three subclasses, one for each shape type. The further we go, the worse it becomes."
   ]
  },
  {
   "cell_type": "markdown",
   "metadata": {
    "hidden": true
   },
   "source": [
    "#### Solution"
   ]
  },
  {
   "cell_type": "markdown",
   "metadata": {
    "hidden": true
   },
   "source": [
    "Following this approach, we can extract the color-related code into its own class with two subclasses: Red and Blue. The Shape class then gets a reference field pointing to one of the color objects. Now the shape can delegate any color-related work to the linked color object. That reference will act as a bridge between the Shape and Color classes. From now on, adding new colors won’t require changing the shape hierarchy, and vice versa."
   ]
  },
  {
   "cell_type": "markdown",
   "metadata": {
    "hidden": true
   },
   "source": [
    "#### Usage examples"
   ]
  },
  {
   "cell_type": "markdown",
   "metadata": {
    "hidden": true
   },
   "source": [
    "The Bridge pattern is especially useful when dealing with cross-platform apps, supporting multiple types of database servers or working with several API providers of a certain kind (for example, cloud platforms, social networks, etc.)"
   ]
  },
  {
   "cell_type": "markdown",
   "metadata": {
    "hidden": true
   },
   "source": [
    "#### Code"
   ]
  },
  {
   "cell_type": "code",
   "execution_count": null,
   "metadata": {
    "hidden": true
   },
   "outputs": [],
   "source": []
  },
  {
   "cell_type": "markdown",
   "metadata": {},
   "source": [
    "### Composite : A tree structure of simple and composite objects"
   ]
  },
  {
   "cell_type": "markdown",
   "metadata": {},
   "source": [
    "### Decorator : Add responsibilities to objects dynamically"
   ]
  },
  {
   "cell_type": "markdown",
   "metadata": {},
   "source": [
    "### Facade : A single class that represents an entire subsystem"
   ]
  },
  {
   "cell_type": "markdown",
   "metadata": {},
   "source": [
    "### Flyweight : A fine-grained instance used for efficient sharing"
   ]
  },
  {
   "cell_type": "markdown",
   "metadata": {},
   "source": [
    "### Private Class Data : Restricts accessor/mutator access"
   ]
  },
  {
   "cell_type": "markdown",
   "metadata": {},
   "source": [
    "### Proxy : An object representing another object"
   ]
  },
  {
   "cell_type": "markdown",
   "metadata": {
    "heading_collapsed": true
   },
   "source": [
    "## Behavioral design patterns"
   ]
  },
  {
   "cell_type": "markdown",
   "metadata": {
    "hidden": true
   },
   "source": [
    "These design patterns are all about Class's objects communication. Behavioral patterns are those patterns that are most specifically concerned with communication between objects.\n",
    "\n",
    "1.They are all different ; no central theme ."
   ]
  },
  {
   "cell_type": "markdown",
   "metadata": {
    "heading_collapsed": true
   },
   "source": [
    "# Enterprise patterns"
   ]
  },
  {
   "cell_type": "code",
   "execution_count": null,
   "metadata": {
    "hidden": true
   },
   "outputs": [],
   "source": []
  }
 ],
 "metadata": {
  "celltoolbar": "Raw Cell Format",
  "hide_input": false,
  "kernelspec": {
   "display_name": "Python 3",
   "language": "python",
   "name": "python3"
  },
  "language_info": {
   "codemirror_mode": {
    "name": "ipython",
    "version": 3
   },
   "file_extension": ".py",
   "mimetype": "text/x-python",
   "name": "python",
   "nbconvert_exporter": "python",
   "pygments_lexer": "ipython3",
   "version": "3.7.6"
  },
  "toc": {
   "base_numbering": 1,
   "nav_menu": {},
   "number_sections": true,
   "sideBar": true,
   "skip_h1_title": false,
   "title_cell": "Table of Contents",
   "title_sidebar": "Contents",
   "toc_cell": false,
   "toc_position": {
    "height": "calc(100% - 180px)",
    "left": "10px",
    "top": "150px",
    "width": "302.141px"
   },
   "toc_section_display": true,
   "toc_window_display": true
  },
  "varInspector": {
   "cols": {
    "lenName": 16,
    "lenType": 16,
    "lenVar": 40
   },
   "kernels_config": {
    "python": {
     "delete_cmd_postfix": "",
     "delete_cmd_prefix": "del ",
     "library": "var_list.py",
     "varRefreshCmd": "print(var_dic_list())"
    },
    "r": {
     "delete_cmd_postfix": ") ",
     "delete_cmd_prefix": "rm(",
     "library": "var_list.r",
     "varRefreshCmd": "cat(var_dic_list()) "
    }
   },
   "types_to_exclude": [
    "module",
    "function",
    "builtin_function_or_method",
    "instance",
    "_Feature"
   ],
   "window_display": false
  }
 },
 "nbformat": 4,
 "nbformat_minor": 4
}
