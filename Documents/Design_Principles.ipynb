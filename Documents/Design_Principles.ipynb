{
 "cells": [
  {
   "cell_type": "markdown",
   "metadata": {},
   "source": [
    "# The Solid Design Principle"
   ]
  },
  {
   "cell_type": "markdown",
   "metadata": {
    "heading_collapsed": true
   },
   "source": [
    "## Single Responsibility Principle , Separation of concerns "
   ]
  },
  {
   "cell_type": "markdown",
   "metadata": {
    "hidden": true
   },
   "source": [
    "If you have a class it should have a primary responsibility and it should not take up other responsibility"
   ]
  },
  {
   "cell_type": "code",
   "execution_count": 1,
   "metadata": {
    "hidden": true
   },
   "outputs": [
    {
     "name": "stdout",
     "output_type": "stream",
     "text": [
      "Journal entries:\n",
      " 1:Today is monday\n",
      "2:I have to go to sleep\n"
     ]
    }
   ],
   "source": [
    "class Journal:\n",
    "    def __init__(self):\n",
    "        self.entries = []\n",
    "        self.count=0\n",
    "    \n",
    "    def add_entry(self,text):\n",
    "        self.count +=1\n",
    "        self.entries.append(f'{self.count}:{text}')\n",
    "        \n",
    "    def remove_entry(self,pos):\n",
    "        del self.entries[pos]\n",
    "        \n",
    "    def __str__(self):\n",
    "        return '\\n'.join(self.entries)\n",
    "    \n",
    "j = Journal()\n",
    "j.add_entry('Today is monday')\n",
    "j.add_entry('I have to go to sleep')\n",
    "\n",
    "print(f'Journal entries:\\n {j}')"
   ]
  },
  {
   "cell_type": "markdown",
   "metadata": {
    "hidden": true
   },
   "source": [
    "- Lets break the Single Responsibility Principle, and give additional work to the Journal class , by asking it to save the Journal to a file.\n",
    "- Add secondary responsiblity , now we are asking it to persist.\n",
    "- Any change in the persistance will have to change in all the classes "
   ]
  },
  {
   "cell_type": "code",
   "execution_count": 2,
   "metadata": {
    "hidden": true
   },
   "outputs": [
    {
     "name": "stdout",
     "output_type": "stream",
     "text": [
      "Journal entries:\n",
      " 1:Today is monday\n",
      "2:I have to go to sleep\n"
     ]
    }
   ],
   "source": [
    "class Journal:\n",
    "    def __init__(self):\n",
    "        self.entries = []\n",
    "        self.count=0\n",
    "    \n",
    "    def add_entry(self,text):\n",
    "        self.count +=1\n",
    "        self.entries.append(f'{self.count}:{text}')\n",
    "        \n",
    "    def remove_entry(self,pos):\n",
    "        del self.entries[pos]\n",
    "        \n",
    "    def __str__(self):\n",
    "        return '\\n'.join(self.entries)\n",
    "    \n",
    "    ## Add secondary responsiblity , now we are asking it to persist.\n",
    "    ## Any change in the pers\n",
    "    def save(self,filename):\n",
    "        file = open(filename,'w')\n",
    "        file.write(srt(self))\n",
    "        file.close()\n",
    "    \n",
    "    def load(self,filename):\n",
    "        pass\n",
    "    \n",
    "j = Journal()\n",
    "j.add_entry('Today is monday')\n",
    "j.add_entry('I have to go to sleep')\n",
    "\n",
    "print(f'Journal entries:\\n {j}')"
   ]
  },
  {
   "cell_type": "markdown",
   "metadata": {
    "hidden": true
   },
   "source": [
    "To fix this issue we break the code and put it into another class called Persistance manager\n",
    "This is to not create a anti-pattern, and avoid creating a God object . Not to put everything into one class.\n",
    "A class should always have a single reason to change and that should be related to it primary responsibility."
   ]
  },
  {
   "cell_type": "code",
   "execution_count": 3,
   "metadata": {
    "hidden": true
   },
   "outputs": [
    {
     "name": "stdout",
     "output_type": "stream",
     "text": [
      "Journal entries:\n",
      " 1:Today is monday\n",
      "2:I have to go to sleep\n"
     ]
    }
   ],
   "source": [
    "class Journal:\n",
    "    def __init__(self):\n",
    "        self.entries = []\n",
    "        self.count=0\n",
    "    \n",
    "    def add_entry(self,text):\n",
    "        self.count +=1\n",
    "        self.entries.append(f'{self.count}:{text}')\n",
    "        \n",
    "    def remove_entry(self,pos):\n",
    "        del self.entries[pos]\n",
    "        \n",
    "    def __str__(self):\n",
    "        return '\\n'.join(self.entries)\n",
    "    \n",
    "    ## Add secondary responsiblity , now we are asking it to persist.\n",
    "    ## Any change in the persitance will have to chage all the classes \n",
    "#     def save(self,filename):\n",
    "#         file = open(filename,'w')\n",
    "#         file.write(srt(self))\n",
    "#         file.close()\n",
    "    \n",
    "#     def load(self,filename):\n",
    "#         pass\n",
    "    \n",
    "class PersistanceManager:\n",
    "    @staticmethod\n",
    "    def save_to_file(journal,filename):\n",
    "        file = open(filename,'w')\n",
    "        file.write(str(journal))\n",
    "        file.close()\n",
    "    \n",
    "j = Journal()\n",
    "j.add_entry('Today is monday')\n",
    "j.add_entry('I have to go to sleep')\n",
    "\n",
    "print(f'Journal entries:\\n {j}')\n",
    "\n",
    "file = r'.\\Journal.txt'\n",
    "PersistanceManager.save_to_file(j,file)"
   ]
  },
  {
   "cell_type": "code",
   "execution_count": 4,
   "metadata": {
    "hidden": true
   },
   "outputs": [
    {
     "name": "stdout",
     "output_type": "stream",
     "text": [
      "1:Today is monday\n",
      "2:I have to go to sleep\n"
     ]
    }
   ],
   "source": [
    "with open(file) as fh:\n",
    "    print(fh.read())"
   ]
  },
  {
   "cell_type": "markdown",
   "metadata": {},
   "source": [
    "## Open Closed Principle "
   ]
  },
  {
   "cell_type": "markdown",
   "metadata": {},
   "source": [
    "This design Principle suggests, Classes should be \"Open for Extension , but closed for modification\""
   ]
  },
  {
   "cell_type": "code",
   "execution_count": 7,
   "metadata": {},
   "outputs": [],
   "source": [
    "from enum import Enum \n",
    "\n",
    "class Color(Enum):\n",
    "    Red=1\n",
    "    Green=2\n",
    "    BLue=3 \n",
    "    \n",
    "class Size(Enum):\n",
    "    Small=1\n",
    "    Medium=2\n",
    "    Large=3\n",
    "\n",
    "\n",
    "\n",
    "class Product:\n",
    "    def __init__(self,name , color, size):\n",
    "        self.name=name\n",
    "        self.color=color\n",
    "        self.size=size\n",
    "\n",
    "## Open for Extension , but closed for modification.\n",
    "class ProductFilter:\n",
    "    \n",
    "    def filter_by_color(self,products,color):\n",
    "        for p in products:\n",
    "            if p.color==color : yield p\n",
    "                \n",
    "    def filter_by_size(self,products,size):\n",
    "        for p in products:\n",
    "            if p.size==size : yield p\n",
    "                "
   ]
  },
  {
   "cell_type": "markdown",
   "metadata": {},
   "source": [
    "Now if the requirement is to filter by size and color , we have to add anther method , which is like disobeying OCP\n",
    "This Approch does not scale and we are causing state space explosion.\n",
    "EG : Filter by size , filter by color , filter by size and color , filer by size or color \n",
    "If you have three criteria, then we have 7 methods to satisfy this case."
   ]
  },
  {
   "cell_type": "code",
   "execution_count": 18,
   "metadata": {},
   "outputs": [],
   "source": [
    "from enum import Enum \n",
    "\n",
    "class Color(Enum):\n",
    "    Red=1\n",
    "    Green=2\n",
    "    Blue=3 \n",
    "    \n",
    "class Size(Enum):\n",
    "    Small=1\n",
    "    Medium=2\n",
    "    Large=3\n",
    "\n",
    "\n",
    "\n",
    "class Product:\n",
    "    def __init__(self,name , color, size):\n",
    "        self.name=name\n",
    "        self.color=color\n",
    "        self.size=size\n",
    "\n",
    "## Open for Extension , but closed for modification.\n",
    "class ProductFilter:\n",
    "    \n",
    "    def filter_by_color(self,products,color):\n",
    "        for p in products:\n",
    "            if p.color==color : yield p\n",
    "                \n",
    "    def filter_by_size(self,products,size):\n",
    "        for p in products:\n",
    "            if p.size==size : yield p\n",
    "                \n",
    "    def filter_by_size_and_color(self,products,size,color):\n",
    "        for p in products:\n",
    "            if p.size==size and p.color==color : \n",
    "                yield p\n",
    "                \n",
    "    def filter_by_size_or_color(self,products,size,color):\n",
    "        for p in products:\n",
    "            if p.size==size or p.color==color : \n",
    "                yield p"
   ]
  },
  {
   "cell_type": "markdown",
   "metadata": {},
   "source": [
    "How to make sure we dont break the OPC , and this can be achieved by a Enterpirse pattern called specification.\n",
    "\n",
    "Specification : Is a class which determines a particular item satisfy a particular criterian."
   ]
  },
  {
   "cell_type": "code",
   "execution_count": 40,
   "metadata": {},
   "outputs": [
    {
     "name": "stdout",
     "output_type": "stream",
     "text": [
      "Green Product (old):\n",
      "-Apple is green\n",
      "-Tree is green\n",
      "Green Product (new):\n",
      "Large Product (new):\n",
      "-Tree is large\n",
      "-House is large\n"
     ]
    }
   ],
   "source": [
    "class Specification:\n",
    "    def is_statisfied(self,item):#this method is to be overridden\n",
    "        pass\n",
    "\n",
    "class Filter:\n",
    "    def filter(self,item,spec):\n",
    "        pass\n",
    "\n",
    "class ColorSpecification(Specification):\n",
    "    \n",
    "    def __init__(self,color):\n",
    "        self.color=color\n",
    "        \n",
    "    def is_statified(self,item):\n",
    "        return item.color==self.color\n",
    "    \n",
    "class SizeSpecification(Specification):\n",
    "    \n",
    "    def __init__(self,size):\n",
    "        self.size=size\n",
    "        \n",
    "    def is_statisfied(self,item):\n",
    "        return item.size==self.size\n",
    "    \n",
    "class Betterfilter(Filter):\n",
    "    def filter(self,items,spec):\n",
    "        #print(\"spec\",spec)\n",
    "        for item in items:\n",
    "            if spec.is_statisfied(item):\n",
    "                yield item\n",
    "\n",
    "apple = Product('Apple',Color.Green,Size.Small)\n",
    "tree = Product('Tree',Color.Green,Size.Large)\n",
    "house = Product('House',Color.Blue,Size.Large)\n",
    "    \n",
    "products = [apple,tree,house]\n",
    "    \n",
    "pf = ProductFilter()\n",
    "print('Green Product (old):')\n",
    " \n",
    "for p in pf.filter_by_color(products,Color.Green):\n",
    "    print(f'-{p.name} is green')\n",
    "    \n",
    "## Specification approach New\n",
    "bf = Betterfilter()\n",
    "\n",
    "print('Green Product (new):')\n",
    "green=ColorSpecification(Color.Green)\n",
    "\n",
    "for p in bf.filter(products,green):\n",
    "    print(f'-{p.name} is green')\n",
    "\n",
    "    \n",
    "print('Large Product (new):')\n",
    "large=SizeSpecification(Size.Large)\n",
    "\n",
    "for p in bf.filter(products,large):\n",
    "    print(f'-{p.name} is large')"
   ]
  },
  {
   "cell_type": "markdown",
   "metadata": {},
   "source": [
    "Lets apply the Design Principle and create a and filter "
   ]
  },
  {
   "cell_type": "code",
   "execution_count": 36,
   "metadata": {},
   "outputs": [
    {
     "name": "stdout",
     "output_type": "stream",
     "text": [
      "Green Product (old):\n",
      "-Apple is green\n",
      "-Tree is green\n",
      "Green Product (new):\n",
      "-Apple is green\n",
      "-Tree is green\n",
      "Large Product (new):\n",
      "-Tree is large\n",
      "-House is large\n",
      "Large Blue Product (new):\n",
      "-House is large and blue\n"
     ]
    }
   ],
   "source": [
    "class Specification:\n",
    "    def is_statisfied(self,item):#this method is to be overriddren\n",
    "        pass\n",
    "\n",
    "class Filter:\n",
    "    def filter(self,item,spec):\n",
    "        pass\n",
    "\n",
    "class ColorSpecification(Specification):\n",
    "    \n",
    "    def __init__(self,color):\n",
    "        self.color=color\n",
    "        \n",
    "    def is_statisfied(self,item):\n",
    "        return item.color==self.color\n",
    "    \n",
    "class SizeSpecification(Specification):\n",
    "    \n",
    "    def __init__(self,size):\n",
    "        self.size=size\n",
    "        \n",
    "    def is_statisfied(self,item):\n",
    "        return item.size==self.size\n",
    "\n",
    "class AndSpecification(Specification):\n",
    "    def __init__(self,*arg):\n",
    "        self.args=arg\n",
    "                \n",
    "    def is_statisfied(self,item):\n",
    "        return all(map(lambda spec: spec.is_statisfied(item),self.args))\n",
    "        \n",
    "class Betterfilter(Filter):\n",
    "    def filter(self,items,spec):\n",
    "        for item in items:\n",
    "            if spec.is_statisfied(item):\n",
    "                yield item\n",
    "\n",
    "apple = Product('Apple',Color.Green,Size.Small)\n",
    "tree = Product('Tree',Color.Green,Size.Large)\n",
    "house = Product('House',Color.Blue,Size.Large)\n",
    "    \n",
    "products = [apple,tree,house]\n",
    "    \n",
    "pf = ProductFilter()\n",
    "print('Green Product (old):')\n",
    " \n",
    "for p in pf.filter_by_color(products,Color.Green):\n",
    "    print(f'-{p.name} is green')\n",
    "    \n",
    "## Specification approach New\n",
    "bf = Betterfilter()\n",
    "\n",
    "print('Green Product (new):')\n",
    "green=ColorSpecification(Color.Green)\n",
    "\n",
    "for p in bf.filter(products,green):\n",
    "    print(f'-{p.name} is green')\n",
    "\n",
    "    \n",
    "print('Large Product (new):')\n",
    "large=SizeSpecification(Size.Large)\n",
    "\n",
    "for p in bf.filter(products,large):\n",
    "    print(f'-{p.name} is large')\n",
    "    \n",
    "print('Large Blue Product (new):')\n",
    "large_blue=AndSpecification(large,ColorSpecification(Color.Blue))\n",
    "\n",
    "for p in bf.filter(products,large_blue):\n",
    "    print(f'-{p.name} is large and blue')"
   ]
  },
  {
   "cell_type": "markdown",
   "metadata": {},
   "source": [
    "It avoid changing the exsisting code but allows extending the functionality"
   ]
  },
  {
   "cell_type": "code",
   "execution_count": 43,
   "metadata": {},
   "outputs": [
    {
     "name": "stdout",
     "output_type": "stream",
     "text": [
      "Green Product (old):\n",
      "-Apple is green\n",
      "-Tree is green\n",
      "Green Product (new):\n",
      "-Apple is green\n",
      "-Tree is green\n",
      "Large Product (new):\n",
      "-Tree is large\n",
      "-House is large\n",
      "Large Blue Product (new):\n",
      "-House is large and blue\n",
      "Large Blue Product (new__and):\n",
      "-House is large and blue\n"
     ]
    }
   ],
   "source": [
    "class Specification:\n",
    "    def is_statisfied(self,item):#this method is to be overriddren\n",
    "        pass\n",
    "    ## overload and operator\n",
    "    def __and__(self,other):\n",
    "        return AndSpecification(self,other)\n",
    "\n",
    "class Filter:\n",
    "    def filter(self,item,spec):\n",
    "        pass\n",
    "\n",
    "class ColorSpecification(Specification):\n",
    "    \n",
    "    def __init__(self,color):\n",
    "        self.color=color\n",
    "        \n",
    "    def is_statisfied(self,item):\n",
    "        return item.color==self.color\n",
    "    \n",
    "class SizeSpecification(Specification):\n",
    "    \n",
    "    def __init__(self,size):\n",
    "        self.size=size\n",
    "        \n",
    "    def is_statisfied(self,item):\n",
    "        return item.size==self.size\n",
    "\n",
    "class AndSpecification(Specification):\n",
    "    def __init__(self,*arg):\n",
    "        self.args=arg\n",
    "                \n",
    "    def is_statisfied(self,item):\n",
    "        return all(map(lambda spec: spec.is_statisfied(item),self.args))\n",
    "        \n",
    "class Betterfilter(Filter):\n",
    "    def filter(self,items,spec):\n",
    "        for item in items:\n",
    "            if spec.is_statisfied(item):\n",
    "                yield item\n",
    "\n",
    "apple = Product('Apple',Color.Green,Size.Small)\n",
    "tree = Product('Tree',Color.Green,Size.Large)\n",
    "house = Product('House',Color.Blue,Size.Large)\n",
    "    \n",
    "products = [apple,tree,house]\n",
    "    \n",
    "pf = ProductFilter()\n",
    "print('Green Product (old):')\n",
    " \n",
    "for p in pf.filter_by_color(products,Color.Green):\n",
    "    print(f'-{p.name} is green')\n",
    "    \n",
    "## Specification approach New\n",
    "bf = Betterfilter()\n",
    "\n",
    "print('Green Product (new):')\n",
    "green=ColorSpecification(Color.Green)\n",
    "\n",
    "for p in bf.filter(products,green):\n",
    "    print(f'-{p.name} is green')\n",
    "\n",
    "    \n",
    "print('Large Product (new):')\n",
    "large=SizeSpecification(Size.Large)\n",
    "\n",
    "for p in bf.filter(products,large):\n",
    "    print(f'-{p.name} is large')\n",
    "    \n",
    "print('Large Blue Product (new):')\n",
    "large_blue=AndSpecification(large,ColorSpecification(Color.Blue))\n",
    "\n",
    "for p in bf.filter(products,large_blue):\n",
    "    print(f'-{p.name} is large and blue')\n",
    "    \n",
    "print('Large Blue Product (new__and):')\n",
    "large_blue=large & ColorSpecification(Color.Blue)\n",
    "\n",
    "for p in bf.filter(products,large_blue):\n",
    "    print(f'-{p.name} is large and blue')"
   ]
  },
  {
   "cell_type": "markdown",
   "metadata": {
    "heading_collapsed": true
   },
   "source": [
    "## Liskov Substitution Principle"
   ]
  },
  {
   "cell_type": "markdown",
   "metadata": {
    "hidden": true
   },
   "source": [
    "if you have some interface that takes some kind of base class then you can put a derived class and then everthing should work."
   ]
  },
  {
   "cell_type": "code",
   "execution_count": 44,
   "metadata": {
    "hidden": true
   },
   "outputs": [
    {
     "name": "stdout",
     "output_type": "stream",
     "text": [
      "Expected an area of 20, got 20\n"
     ]
    }
   ],
   "source": [
    "class Rectangle:\n",
    "    def __init__(self, width, height):\n",
    "        self._height = height\n",
    "        self._width = width\n",
    "\n",
    "    @property\n",
    "    def area(self):\n",
    "        return self._width * self._height\n",
    "\n",
    "    def __str__(self):\n",
    "        return f'Width: {self.width}, height: {self.height}'\n",
    "\n",
    "    @property\n",
    "    def width(self):\n",
    "        return self._width\n",
    "\n",
    "    @width.setter\n",
    "    def width(self, value):\n",
    "        self._width = value\n",
    "\n",
    "    @property\n",
    "    def height(self):\n",
    "        return self._height\n",
    "\n",
    "    @height.setter\n",
    "    def height(self, value):\n",
    "        self._height = value\n",
    "\n",
    "\n",
    "def use_it(rc):\n",
    "    w = rc.width\n",
    "    rc.height = 10  # unpleasant side effect\n",
    "    expected = int(w * 10)\n",
    "    print(f'Expected an area of {expected}, got {rc.area}')\n",
    "\n",
    "\n",
    "rc = Rectangle(2, 3)\n",
    "use_it(rc)\n"
   ]
  },
  {
   "cell_type": "code",
   "execution_count": 47,
   "metadata": {
    "hidden": true
   },
   "outputs": [
    {
     "name": "stdout",
     "output_type": "stream",
     "text": [
      "Expected an area of 20, got 20\n",
      "Expected an area of 50, got 25\n"
     ]
    }
   ],
   "source": [
    "class Square(Rectangle):\n",
    "    def __init__(self, size):\n",
    "        Rectangle.__init__(self, size, size)\n",
    "\n",
    "    @Rectangle.width.setter\n",
    "    def width(self, value):\n",
    "        _width = _height = value\n",
    "\n",
    "    @Rectangle.height.setter\n",
    "    def height(self, value):\n",
    "        _width = _height = value\n",
    "\n",
    "\n",
    "def use_it(rc):\n",
    "    w = rc.width\n",
    "    rc.height = 10  # unpleasant side effect\n",
    "    expected = int(w * 10)\n",
    "    print(f'Expected an area of {expected}, got {rc.area}')\n",
    "\n",
    "\n",
    "rc = Rectangle(2, 3)\n",
    "use_it(rc)\n",
    "\n",
    "sq = Square(5)\n",
    "use_it(sq)"
   ]
  },
  {
   "cell_type": "markdown",
   "metadata": {
    "heading_collapsed": true
   },
   "source": [
    "## Interface Segregation Principle"
   ]
  },
  {
   "cell_type": "markdown",
   "metadata": {
    "hidden": true
   },
   "source": [
    "Not to put too may interfaces "
   ]
  },
  {
   "cell_type": "code",
   "execution_count": 49,
   "metadata": {
    "hidden": true
   },
   "outputs": [
    {
     "ename": "NotImplementedError",
     "evalue": "Printer cannot scan!",
     "output_type": "error",
     "traceback": [
      "\u001b[1;31m---------------------------------------------------------------------------\u001b[0m",
      "\u001b[1;31mNotImplementedError\u001b[0m                       Traceback (most recent call last)",
      "\u001b[1;32m<ipython-input-49-0956bc6088e5>\u001b[0m in \u001b[0;36m<module>\u001b[1;34m\u001b[0m\n\u001b[0;32m     39\u001b[0m \u001b[0mprinter\u001b[0m \u001b[1;33m=\u001b[0m \u001b[0mOldFashionedPrinter\u001b[0m\u001b[1;33m(\u001b[0m\u001b[1;33m)\u001b[0m\u001b[1;33m\u001b[0m\u001b[1;33m\u001b[0m\u001b[0m\n\u001b[0;32m     40\u001b[0m \u001b[0mprinter\u001b[0m\u001b[1;33m.\u001b[0m\u001b[0mfax\u001b[0m\u001b[1;33m(\u001b[0m\u001b[1;36m123\u001b[0m\u001b[1;33m)\u001b[0m  \u001b[1;31m# nothing happens\u001b[0m\u001b[1;33m\u001b[0m\u001b[1;33m\u001b[0m\u001b[0m\n\u001b[1;32m---> 41\u001b[1;33m \u001b[0mprinter\u001b[0m\u001b[1;33m.\u001b[0m\u001b[0mscan\u001b[0m\u001b[1;33m(\u001b[0m\u001b[1;36m123\u001b[0m\u001b[1;33m)\u001b[0m  \u001b[1;31m# oops!\u001b[0m\u001b[1;33m\u001b[0m\u001b[1;33m\u001b[0m\u001b[0m\n\u001b[0m",
      "\u001b[1;32m<ipython-input-49-0956bc6088e5>\u001b[0m in \u001b[0;36mscan\u001b[1;34m(self, document)\u001b[0m\n\u001b[0;32m     35\u001b[0m     \u001b[1;32mdef\u001b[0m \u001b[0mscan\u001b[0m\u001b[1;33m(\u001b[0m\u001b[0mself\u001b[0m\u001b[1;33m,\u001b[0m \u001b[0mdocument\u001b[0m\u001b[1;33m)\u001b[0m\u001b[1;33m:\u001b[0m\u001b[1;33m\u001b[0m\u001b[1;33m\u001b[0m\u001b[0m\n\u001b[0;32m     36\u001b[0m         \u001b[1;34m\"\"\"Not supported!\"\"\"\u001b[0m\u001b[1;33m\u001b[0m\u001b[1;33m\u001b[0m\u001b[0m\n\u001b[1;32m---> 37\u001b[1;33m         \u001b[1;32mraise\u001b[0m \u001b[0mNotImplementedError\u001b[0m\u001b[1;33m(\u001b[0m\u001b[1;34m'Printer cannot scan!'\u001b[0m\u001b[1;33m)\u001b[0m\u001b[1;33m\u001b[0m\u001b[1;33m\u001b[0m\u001b[0m\n\u001b[0m\u001b[0;32m     38\u001b[0m \u001b[1;33m\u001b[0m\u001b[0m\n\u001b[0;32m     39\u001b[0m \u001b[0mprinter\u001b[0m \u001b[1;33m=\u001b[0m \u001b[0mOldFashionedPrinter\u001b[0m\u001b[1;33m(\u001b[0m\u001b[1;33m)\u001b[0m\u001b[1;33m\u001b[0m\u001b[1;33m\u001b[0m\u001b[0m\n",
      "\u001b[1;31mNotImplementedError\u001b[0m: Printer cannot scan!"
     ]
    }
   ],
   "source": [
    "from abc import abstractmethod\n",
    "\n",
    "\n",
    "class Machine:\n",
    "    def print(self, document):\n",
    "        raise NotImplementedError()\n",
    "\n",
    "    def fax(self, document):\n",
    "        raise NotImplementedError()\n",
    "\n",
    "    def scan(self, document):\n",
    "        raise NotImplementedError()\n",
    "\n",
    "\n",
    "# ok if you need a multifunction device\n",
    "class MultiFunctionPrinter(Machine):\n",
    "    def print(self, document):\n",
    "        pass\n",
    "\n",
    "    def fax(self, document):\n",
    "        pass\n",
    "\n",
    "    def scan(self, document):\n",
    "        pass\n",
    "\n",
    "#Problem is the old printer doesnot have fax and scanner, a instance will have the fax and scan.\n",
    "class OldFashionedPrinter(Machine):\n",
    "    def print(self, document):\n",
    "        # ok - print stuff\n",
    "        pass\n",
    "\n",
    "    def fax(self, document):\n",
    "        pass  # do-nothing\n",
    "\n",
    "    def scan(self, document):\n",
    "        \"\"\"Not supported!\"\"\"\n",
    "        raise NotImplementedError('Printer cannot scan!')\n",
    "\n",
    "printer = OldFashionedPrinter()\n",
    "printer.fax(123)  # nothing happens\n",
    "printer.scan(123)  # oops!\n",
    "\n",
    "## Here the client will fail , if it calls the scnner and fax for the oldfalhsioned printer. Which we can avoid by doing the below."
   ]
  },
  {
   "cell_type": "code",
   "execution_count": 50,
   "metadata": {
    "hidden": true
   },
   "outputs": [],
   "source": [
    "from abc import abstractmethod\n",
    "\n",
    "## Instead of having the Machine Class have three different classes \n",
    "class Printer:\n",
    "    @abstractmethod\n",
    "    def print(self, document): pass\n",
    "\n",
    "\n",
    "class Scanner:\n",
    "    @abstractmethod\n",
    "    def scan(self, document): pass\n",
    "\n",
    "\n",
    "# same for Fax, etc.\n",
    "\n",
    "class MyPrinter(Printer):\n",
    "    def print(self, document):\n",
    "        print(document)\n",
    "\n",
    "\n",
    "class Photocopier(Printer, Scanner):\n",
    "    def print(self, document):\n",
    "        print(document)\n",
    "\n",
    "    def scan(self, document):\n",
    "        pass  # something meaningful\n",
    "\n",
    "\n",
    "class MultiFunctionDevice(Printer, Scanner):  # , Fax, etc\n",
    "    @abstractmethod\n",
    "    def print(self, document):\n",
    "        pass\n",
    "\n",
    "    @abstractmethod\n",
    "    def scan(self, document):\n",
    "        pass\n",
    "\n",
    "\n",
    "class MultiFunctionMachine(MultiFunctionDevice):\n",
    "    def __init__(self, printer, scanner):\n",
    "        self.printer = printer\n",
    "        self.scanner = scanner\n",
    "\n",
    "    def print(self, document):\n",
    "        self.printer.print(document)\n",
    "\n",
    "    def scan(self, document):\n",
    "        self.scanner.scan(document)\n"
   ]
  },
  {
   "cell_type": "markdown",
   "metadata": {
    "heading_collapsed": true
   },
   "source": [
    "## Dependency Inversion Principle"
   ]
  },
  {
   "cell_type": "markdown",
   "metadata": {
    "hidden": true
   },
   "source": [
    "High level classes and high level modules shold not dedpend on low level classes and modules "
   ]
  },
  {
   "cell_type": "code",
   "execution_count": 52,
   "metadata": {
    "hidden": true
   },
   "outputs": [
    {
     "name": "stdout",
     "output_type": "stream",
     "text": [
      "John has a child called Chris\n",
      "John has a child called Matt\n"
     ]
    },
    {
     "data": {
      "text/plain": [
       "<__main__.Research at 0x22efc2602c8>"
      ]
     },
     "execution_count": 52,
     "metadata": {},
     "output_type": "execute_result"
    }
   ],
   "source": [
    "from abc import abstractmethod\n",
    "from enum import Enum\n",
    "\n",
    "\n",
    "class Relationship(Enum):\n",
    "    PARENT = 0\n",
    "    CHILD = 1\n",
    "    SIBLING = 2\n",
    "\n",
    "\n",
    "class Person:\n",
    "    def __init__(self, name):\n",
    "        self.name = name\n",
    "\n",
    "\n",
    "class RelationshipBrowser:\n",
    "    @abstractmethod\n",
    "    def find_all_children_of(self, name): pass\n",
    "\n",
    "\n",
    "class Relationships(RelationshipBrowser):  # low-level\n",
    "    relations = []\n",
    "\n",
    "    def add_parent_and_child(self, parent, child):\n",
    "        self.relations.append((parent, Relationship.PARENT, child))\n",
    "        self.relations.append((child, Relationship.PARENT, parent))\n",
    "            \n",
    "    def find_all_children_of(self, name):\n",
    "        for r in self.relations:\n",
    "            if r[0].name == name and r[1] == Relationship.PARENT:\n",
    "                yield r[2].name\n",
    "\n",
    "                \n",
    "class Relationships(RelationshipBrowser):  # low-level\n",
    "    relations = []\n",
    "\n",
    "    def add_parent_and_child(self, parent, child):\n",
    "        self.relations.append((parent, Relationship.PARENT, child))\n",
    "        self.relations.append((child, Relationship.PARENT, parent))\n",
    "            \n",
    "    def find_all_children_of(self, name):\n",
    "        for r in self.relations:\n",
    "            if r[0].name == name and r[1] == Relationship.PARENT:\n",
    "                yield r[2].name\n",
    "                \n",
    "# changed the init in the research to not have low level dependency , if the stroage type relations =[] is chnaged from list to dictonary the client doesnot have to do an change.\n",
    "class Research:\n",
    "    # dependency on a low-level module directly\n",
    "    # bad because strongly dependent on e.g. storage type\n",
    "\n",
    "    # def __init__(self, relationships):\n",
    "    #     # high-level: find all of john's children\n",
    "    #     relations = relationships.relations\n",
    "    #     for r in relations:\n",
    "    #         if r[0].name == 'John' and r[1] == Relationship.PARENT:\n",
    "    #             print(f'John has a child called {r[2].name}.')\n",
    "\n",
    "    def __init__(self, browser):\n",
    "        for p in browser.find_all_children_of(\"John\"):\n",
    "            print(f'John has a child called {p}')\n",
    "\n",
    "\n",
    "parent = Person('John')\n",
    "child1 = Person('Chris')\n",
    "child2 = Person('Matt')\n",
    "\n",
    "# low-level module\n",
    "relationships = Relationships()\n",
    "relationships.add_parent_and_child(parent, child1)\n",
    "relationships.add_parent_and_child(parent, child2)\n",
    "\n",
    "Research(relationships)"
   ]
  },
  {
   "cell_type": "markdown",
   "metadata": {},
   "source": [
    "## Summary"
   ]
  },
  {
   "cell_type": "markdown",
   "metadata": {},
   "source": [
    "### Single Responsibilty Principle :"
   ]
  },
  {
   "cell_type": "markdown",
   "metadata": {},
   "source": [
    "    - A Class should only have one reason to change.\n",
    "    - Seperation of concerns - different classes handling diffrent, independent tasks/problems"
   ]
  },
  {
   "cell_type": "markdown",
   "metadata": {},
   "source": [
    "### Open-Closed Principle :"
   ]
  },
  {
   "cell_type": "markdown",
   "metadata": {},
   "source": [
    "    - Classes should be open for extension but closed for modification"
   ]
  },
  {
   "cell_type": "markdown",
   "metadata": {},
   "source": [
    "### Liskov Substituion Principle"
   ]
  },
  {
   "cell_type": "markdown",
   "metadata": {},
   "source": [
    "    -You Should be able to substitue a basetype for a subtype"
   ]
  },
  {
   "cell_type": "markdown",
   "metadata": {},
   "source": [
    "###  Interface Segregation Principle"
   ]
  },
  {
   "cell_type": "markdown",
   "metadata": {},
   "source": [
    "    - Don't put too much into an interface ; split into a seperate interfaces\n",
    "    - YAGNI - ou Ain't Going to Need It"
   ]
  },
  {
   "cell_type": "markdown",
   "metadata": {},
   "source": [
    "### Dependency Inversion Principle"
   ]
  },
  {
   "cell_type": "markdown",
   "metadata": {},
   "source": [
    "    - High-Level modules should not depend upon low-level ones; use abstractions"
   ]
  },
  {
   "cell_type": "code",
   "execution_count": null,
   "metadata": {},
   "outputs": [],
   "source": []
  },
  {
   "cell_type": "code",
   "execution_count": null,
   "metadata": {},
   "outputs": [],
   "source": []
  }
 ],
 "metadata": {
  "hide_input": false,
  "kernelspec": {
   "display_name": "Python 3",
   "language": "python",
   "name": "python3"
  },
  "language_info": {
   "codemirror_mode": {
    "name": "ipython",
    "version": 3
   },
   "file_extension": ".py",
   "mimetype": "text/x-python",
   "name": "python",
   "nbconvert_exporter": "python",
   "pygments_lexer": "ipython3",
   "version": "3.7.6"
  },
  "toc": {
   "base_numbering": 1,
   "nav_menu": {},
   "number_sections": true,
   "sideBar": true,
   "skip_h1_title": false,
   "title_cell": "Table of Contents",
   "title_sidebar": "Contents",
   "toc_cell": false,
   "toc_position": {},
   "toc_section_display": true,
   "toc_window_display": true
  },
  "varInspector": {
   "cols": {
    "lenName": 16,
    "lenType": 16,
    "lenVar": 40
   },
   "kernels_config": {
    "python": {
     "delete_cmd_postfix": "",
     "delete_cmd_prefix": "del ",
     "library": "var_list.py",
     "varRefreshCmd": "print(var_dic_list())"
    },
    "r": {
     "delete_cmd_postfix": ") ",
     "delete_cmd_prefix": "rm(",
     "library": "var_list.r",
     "varRefreshCmd": "cat(var_dic_list()) "
    }
   },
   "types_to_exclude": [
    "module",
    "function",
    "builtin_function_or_method",
    "instance",
    "_Feature"
   ],
   "window_display": false
  }
 },
 "nbformat": 4,
 "nbformat_minor": 4
}
