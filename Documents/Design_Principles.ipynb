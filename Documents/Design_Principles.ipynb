{
 "cells": [
  {
   "cell_type": "markdown",
   "metadata": {},
   "source": [
    "# The Solid Design Principle"
   ]
  },
  {
   "cell_type": "markdown",
   "metadata": {},
   "source": [
    "## Single Responsibility Principle , Separation of concerns "
   ]
  },
  {
   "cell_type": "markdown",
   "metadata": {},
   "source": [
    "If you have a class it should have a primary responsibility and it should not take up other responsibility"
   ]
  },
  {
   "cell_type": "code",
   "execution_count": 1,
   "metadata": {},
   "outputs": [
    {
     "name": "stdout",
     "output_type": "stream",
     "text": [
      "Journal entries:\n",
      " 1:Today is monday\n",
      "2:I have to go to sleep\n"
     ]
    }
   ],
   "source": [
    "class Journal:\n",
    "    def __init__(self):\n",
    "        self.entries = []\n",
    "        self.count=0\n",
    "    \n",
    "    def add_entry(self,text):\n",
    "        self.count +=1\n",
    "        self.entries.append(f'{self.count}:{text}')\n",
    "        \n",
    "    def remove_entry(self,pos):\n",
    "        del self.entries[pos]\n",
    "        \n",
    "    def __str__(self):\n",
    "        return '\\n'.join(self.entries)\n",
    "    \n",
    "j = Journal()\n",
    "j.add_entry('Today is monday')\n",
    "j.add_entry('I have to go to sleep')\n",
    "\n",
    "print(f'Journal entries:\\n {j}')"
   ]
  },
  {
   "cell_type": "markdown",
   "metadata": {},
   "source": [
    "- Lets break the Single Responsibility Principle, and give additional work to the Journal class , by asking it to save the Journal to a file.\n",
    "- Add secondary responsiblity , now we are asking it to persist.\n",
    "- Any change in the persistance will have to change in all the classes "
   ]
  },
  {
   "cell_type": "code",
   "execution_count": 2,
   "metadata": {},
   "outputs": [
    {
     "name": "stdout",
     "output_type": "stream",
     "text": [
      "Journal entries:\n",
      " 1:Today is monday\n",
      "2:I have to go to sleep\n"
     ]
    }
   ],
   "source": [
    "class Journal:\n",
    "    def __init__(self):\n",
    "        self.entries = []\n",
    "        self.count=0\n",
    "    \n",
    "    def add_entry(self,text):\n",
    "        self.count +=1\n",
    "        self.entries.append(f'{self.count}:{text}')\n",
    "        \n",
    "    def remove_entry(self,pos):\n",
    "        del self.entries[pos]\n",
    "        \n",
    "    def __str__(self):\n",
    "        return '\\n'.join(self.entries)\n",
    "    \n",
    "    ## Add secondary responsiblity , now we are asking it to persist.\n",
    "    ## Any change in the pers\n",
    "    def save(self,filename):\n",
    "        file = open(filename,'w')\n",
    "        file.write(srt(self))\n",
    "        file.close()\n",
    "    \n",
    "    def load(self,filename):\n",
    "        pass\n",
    "    \n",
    "j = Journal()\n",
    "j.add_entry('Today is monday')\n",
    "j.add_entry('I have to go to sleep')\n",
    "\n",
    "print(f'Journal entries:\\n {j}')"
   ]
  },
  {
   "cell_type": "markdown",
   "metadata": {},
   "source": [
    "To fix this issue we break the code and put it into another class called Persistance manager\n",
    "This is to not create a anti-pattern, and avoid creating a God object . Not to put everything into one class.\n",
    "A class should always have a single reason to change and that should be related to it primary responsibility."
   ]
  },
  {
   "cell_type": "code",
   "execution_count": 3,
   "metadata": {},
   "outputs": [
    {
     "name": "stdout",
     "output_type": "stream",
     "text": [
      "Journal entries:\n",
      " 1:Today is monday\n",
      "2:I have to go to sleep\n"
     ]
    }
   ],
   "source": [
    "class Journal:\n",
    "    def __init__(self):\n",
    "        self.entries = []\n",
    "        self.count=0\n",
    "    \n",
    "    def add_entry(self,text):\n",
    "        self.count +=1\n",
    "        self.entries.append(f'{self.count}:{text}')\n",
    "        \n",
    "    def remove_entry(self,pos):\n",
    "        del self.entries[pos]\n",
    "        \n",
    "    def __str__(self):\n",
    "        return '\\n'.join(self.entries)\n",
    "    \n",
    "    ## Add secondary responsiblity , now we are asking it to persist.\n",
    "    ## Any change in the persitance will have to chage all the classes \n",
    "#     def save(self,filename):\n",
    "#         file = open(filename,'w')\n",
    "#         file.write(srt(self))\n",
    "#         file.close()\n",
    "    \n",
    "#     def load(self,filename):\n",
    "#         pass\n",
    "    \n",
    "class PersistanceManager:\n",
    "    @staticmethod\n",
    "    def save_to_file(journal,filename):\n",
    "        file = open(filename,'w')\n",
    "        file.write(str(journal))\n",
    "        file.close()\n",
    "    \n",
    "j = Journal()\n",
    "j.add_entry('Today is monday')\n",
    "j.add_entry('I have to go to sleep')\n",
    "\n",
    "print(f'Journal entries:\\n {j}')\n",
    "\n",
    "file = r'.\\Journal.txt'\n",
    "PersistanceManager.save_to_file(j,file)"
   ]
  },
  {
   "cell_type": "code",
   "execution_count": 4,
   "metadata": {},
   "outputs": [
    {
     "name": "stdout",
     "output_type": "stream",
     "text": [
      "1:Today is monday\n",
      "2:I have to go to sleep\n"
     ]
    }
   ],
   "source": [
    "with open(file) as fh:\n",
    "    print(fh.read())"
   ]
  },
  {
   "cell_type": "markdown",
   "metadata": {},
   "source": [
    "## Open Closed Principle "
   ]
  },
  {
   "cell_type": "markdown",
   "metadata": {},
   "source": [
    "## Interface Segregation Principle"
   ]
  },
  {
   "cell_type": "code",
   "execution_count": 6,
   "metadata": {},
   "outputs": [],
   "source": [
    "## Dependency Inversion Principle"
   ]
  },
  {
   "cell_type": "code",
   "execution_count": null,
   "metadata": {},
   "outputs": [],
   "source": []
  },
  {
   "cell_type": "code",
   "execution_count": null,
   "metadata": {},
   "outputs": [],
   "source": []
  },
  {
   "cell_type": "code",
   "execution_count": null,
   "metadata": {},
   "outputs": [],
   "source": []
  },
  {
   "cell_type": "code",
   "execution_count": null,
   "metadata": {},
   "outputs": [],
   "source": []
  }
 ],
 "metadata": {
  "kernelspec": {
   "display_name": "Python 3",
   "language": "python",
   "name": "python3"
  },
  "language_info": {
   "codemirror_mode": {
    "name": "ipython",
    "version": 3
   },
   "file_extension": ".py",
   "mimetype": "text/x-python",
   "name": "python",
   "nbconvert_exporter": "python",
   "pygments_lexer": "ipython3",
   "version": "3.7.6"
  }
 },
 "nbformat": 4,
 "nbformat_minor": 4
}
