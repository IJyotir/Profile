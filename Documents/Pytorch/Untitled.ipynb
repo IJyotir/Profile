{
 "cells": [
  {
   "cell_type": "code",
   "execution_count": 2,
   "metadata": {},
   "outputs": [
    {
     "data": {
      "text/html": [
       "<table>\n",
       "<tbody>\n",
       "<tr><td>Sun  </td><td style=\"text-align: right;\">696000</td><td style=\"text-align: right;\">   1.9891e+09</td></tr>\n",
       "<tr><td>Earth</td><td style=\"text-align: right;\">  6371</td><td style=\"text-align: right;\">5973.6       </td></tr>\n",
       "<tr><td>Moon </td><td style=\"text-align: right;\">  1737</td><td style=\"text-align: right;\">  73.5       </td></tr>\n",
       "<tr><td>Mars </td><td style=\"text-align: right;\">  3390</td><td style=\"text-align: right;\"> 641.85      </td></tr>\n",
       "</tbody>\n",
       "</table>"
      ],
      "text/plain": [
       "<IPython.core.display.HTML object>"
      ]
     },
     "metadata": {},
     "output_type": "display_data"
    }
   ],
   "source": [
    "from IPython.display import HTML, display\n",
    "import tabulate\n",
    "table = [[\"Sun\",696000,1989100000],\n",
    "         [\"Earth\",6371,5973.6],\n",
    "         [\"Moon\",1737,73.5],\n",
    "         [\"Mars\",3390,641.85]]\n",
    "display(HTML(tabulate.tabulate(table, tablefmt='html')))"
   ]
  }
 ],
 "metadata": {
  "kernelspec": {
   "display_name": "Python 3",
   "language": "python",
   "name": "python3"
  },
  "language_info": {
   "codemirror_mode": {
    "name": "ipython",
    "version": 3
   },
   "file_extension": ".py",
   "mimetype": "text/x-python",
   "name": "python",
   "nbconvert_exporter": "python",
   "pygments_lexer": "ipython3",
   "version": "3.7.3"
  }
 },
 "nbformat": 4,
 "nbformat_minor": 2
}
